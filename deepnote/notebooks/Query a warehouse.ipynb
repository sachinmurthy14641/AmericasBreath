{
  "cells": [
    {
      "cell_type": "markdown",
      "metadata": {
        "tags": [],
        "is_collapsed": false,
        "formattedRanges": [],
        "cell_id": "1766abd548bd4392adc0dd8f5f9a0d9f",
        "deepnote_cell_type": "text-cell-h1"
      },
      "source": "# Welcome to Deepnote",
      "block_group": "489db757d6c4408c92888004d3603ddb"
    },
    {
      "cell_type": "markdown",
      "metadata": {
        "tags": [],
        "is_collapsed": false,
        "formattedRanges": [],
        "cell_id": "d58ba38bea874f6ab2b54aeb63b42c03",
        "deepnote_cell_type": "text-cell-p"
      },
      "source": "In this quick example, we will walk you through the basic steps of data exploration in a notebook.",
      "block_group": "ccdfbbc4a1cd42519b317359da73c244"
    },
    {
      "cell_type": "markdown",
      "metadata": {
        "tags": [],
        "is_collapsed": false,
        "formattedRanges": [],
        "cell_id": "25e319258d9941c386b30c9aa20287f6",
        "deepnote_cell_type": "text-cell-h2"
      },
      "source": "## Start with a query",
      "block_group": "ef9f32b5-5c07-4de8-aafa-53e887c47ae1"
    },
    {
      "cell_type": "markdown",
      "metadata": {
        "tags": [],
        "is_collapsed": false,
        "formattedRanges": [],
        "cell_id": "b69dc73ea8354ddfbfd5ba7b96a7f002",
        "deepnote_cell_type": "text-cell-p"
      },
      "source": "To get you started, we prepared a sample dataset in a demo Snowflake integration. It contains country data for life expectancy, population and GDP per capita over the years. ",
      "block_group": "a09a5f65-3b4b-48f0-9ac3-da95ac7354fc"
    },
    {
      "cell_type": "code",
      "metadata": {
        "tags": [],
        "source_hash": null,
        "output_cleared": false,
        "execution_start": 1705487334444,
        "execution_millis": 1422,
        "sql_integration_id": "590c6513-618e-4e83-9c49-f7df61e09f50",
        "deepnote_sql_source": "select * from demo.gapminder",
        "deepnote_table_state": {
          "sortBy": [],
          "filters": [],
          "pageSize": 10,
          "pageIndex": 11
        },
        "deepnote_table_loading": false,
        "deepnote_variable_name": "df",
        "deepnote_to_be_reexecuted": false,
        "cell_id": "8cd88ea0dabe44868cb7d4963fc1a4f6",
        "deepnote_cell_type": "sql"
      },
      "source": "df = _dntk.execute_sql(\n  'select * from demo.gapminder',\n  'SQL_590C6513_618E_4E83_9C49_F7DF61E09F50',\n  audit_sql_comment='',\n  sql_cache_mode='cache_disabled',\n  return_variable_type='dataframe'\n)\ndf",
      "block_group": "606220a8ad124b03b1f5f5d3f663124e",
      "execution_count": null,
      "outputs": [],
      "outputs_reference": null,
      "content_dependencies": null
    },
    {
      "cell_type": "markdown",
      "metadata": {
        "tags": [],
        "is_collapsed": false,
        "formattedRanges": [
          {
            "type": "marks",
            "marks": {
              "italic": true
            },
            "toCodePoint": 28,
            "fromCodePoint": 0
          },
          {
            "url": "https://www.gapminder.org/",
            "type": "link",
            "ranges": [
              {
                "type": "marks",
                "marks": {
                  "italic": true
                },
                "toCodePoint": 13,
                "fromCodePoint": 0
              }
            ],
            "toCodePoint": 41,
            "fromCodePoint": 28
          },
          {
            "type": "marks",
            "marks": {
              "italic": true
            },
            "toCodePoint": 57,
            "fromCodePoint": 41
          }
        ],
        "cell_id": "6e8ac9042c21430f8bf9ecfcc98e4804",
        "deepnote_cell_type": "text-cell-p"
      },
      "source": "Based on free material from gapminder.org, CC-BY license.",
      "block_group": "02ad5eeb-f1f1-4cea-b812-38c3a1bc86c3"
    },
    {
      "cell_type": "markdown",
      "metadata": {
        "tags": [],
        "is_collapsed": false,
        "formattedRanges": [],
        "cell_id": "5bac2cbfa5e84198978aa99330b149d8",
        "deepnote_cell_type": "text-cell-h2"
      },
      "source": "## Seamlessly switch to Python",
      "block_group": "e3c2d0ec9ad24fada390af7356efff1a"
    },
    {
      "cell_type": "markdown",
      "metadata": {
        "tags": [],
        "is_collapsed": false,
        "formattedRanges": [],
        "cell_id": "f840ace0f65d4460b64d2e5be53adaf4",
        "deepnote_cell_type": "text-cell-p"
      },
      "source": "The results of your queries are stored as pandas DataFrames, which makes it easy to work with them in Python. For example, you can explore how life expectancy correlates with economic wealth. ",
      "block_group": "5379c58c-0985-4d05-9746-ac673fb4b250"
    },
    {
      "cell_type": "code",
      "metadata": {
        "tags": [],
        "source_hash": null,
        "output_cleared": false,
        "execution_start": 1705487335875,
        "execution_millis": 13,
        "deepnote_to_be_reexecuted": false,
        "cell_id": "4de6a9403b934834a6c6142896bc6535",
        "deepnote_cell_type": "code"
      },
      "source": "df['life_expectancy'].corr(df['gdp_per_capita'])\n",
      "block_group": "5e47b51afc934af782e2c048f7157db2",
      "execution_count": null,
      "outputs": [],
      "outputs_reference": null,
      "content_dependencies": null
    },
    {
      "cell_type": "markdown",
      "metadata": {
        "tags": [],
        "is_collapsed": false,
        "formattedRanges": [],
        "cell_id": "47114a94f4fe4b7c8a1c340b4a167a23",
        "deepnote_cell_type": "text-cell-h2"
      },
      "source": "## Finish with beautiful charts",
      "block_group": "92aaa2a2-5b67-4588-a795-2491ee8592d2"
    },
    {
      "cell_type": "markdown",
      "metadata": {
        "tags": [],
        "is_collapsed": false,
        "formattedRanges": [],
        "cell_id": "096a4c5457c94889a762ddfe2a3b5d59",
        "deepnote_cell_type": "text-cell-p"
      },
      "source": "Charts that push your presentation to the next level are easy to make in Deepnote. Here's a deeper look into the relationship between life expectancy and economic wealth, with additional indicators for continents and population size. ",
      "block_group": "71c62cd9f51240c489db5e66c1bc6556"
    },
    {
      "cell_type": "code",
      "metadata": {
        "source_hash": null,
        "output_cleared": false,
        "execution_start": 1705487338439,
        "execution_millis": 27,
        "deepnote_chart_height": 570,
        "deepnote_variable_name": "df",
        "deepnote_config_collapsed": false,
        "deepnote_to_be_reexecuted": false,
        "deepnote_visualization_spec": {
          "mark": {
            "clip": true,
            "type": "point",
            "tooltip": true
          },
          "title": "Life expectancy and economic wealth",
          "config": {
            "legend": {}
          },
          "$schema": "https://vega.github.io/schema/vega-lite/v5.json",
          "encoding": {
            "x": {
              "axis": {
                "title": "GDP per capita"
              },
              "sort": null,
              "type": "quantitative",
              "field": "gdp_per_capita",
              "scale": {
                "type": "log",
                "zero": false,
                "domainMax": 100000
              }
            },
            "y": {
              "axis": {
                "title": "Life expectancy (years)"
              },
              "sort": null,
              "type": "quantitative",
              "field": "life_expectancy",
              "scale": {
                "type": "linear",
                "zero": false
              }
            },
            "size": {
              "sort": null,
              "type": "quantitative",
              "field": "population"
            },
            "color": {
              "sort": null,
              "type": "nominal",
              "field": "continent",
              "scale": {
                "scheme": "tableau10"
              }
            }
          }
        },
        "cell_id": "ba6141785a6b409c87bf0c906537c832",
        "deepnote_cell_type": "visualization"
      },
      "source": "_dntk.DeepnoteChart(df, \"\"\"{\"mark\":{\"clip\":true,\"type\":\"point\",\"tooltip\":true},\"title\":\"Life expectancy and economic wealth\",\"config\":{\"legend\":{}},\"$schema\":\"https://vega.github.io/schema/vega-lite/v5.json\",\"encoding\":{\"x\":{\"axis\":{\"title\":\"GDP per capita\"},\"sort\":null,\"type\":\"quantitative\",\"field\":\"gdp_per_capita\",\"scale\":{\"type\":\"log\",\"zero\":false,\"domainMax\":100000}},\"y\":{\"axis\":{\"title\":\"Life expectancy (years)\"},\"sort\":null,\"type\":\"quantitative\",\"field\":\"life_expectancy\",\"scale\":{\"type\":\"linear\",\"zero\":false}},\"size\":{\"sort\":null,\"type\":\"quantitative\",\"field\":\"population\"},\"color\":{\"sort\":null,\"type\":\"nominal\",\"field\":\"continent\",\"scale\":{\"scheme\":\"tableau10\"}}}}\"\"\")",
      "block_group": "352ab760d4aa4fe3915feba4bbca12ce",
      "execution_count": null,
      "outputs": [],
      "outputs_reference": null
    },
    {
      "cell_type": "markdown",
      "metadata": {
        "tags": [],
        "is_collapsed": false,
        "formattedRanges": [],
        "cell_id": "03f27a19a8894566ad34a4066b5cbc79",
        "deepnote_cell_type": "text-cell-h2"
      },
      "source": "## Next steps",
      "block_group": "3bd2d030-19cb-43c1-9443-246b46cc3e14"
    },
    {
      "cell_type": "markdown",
      "metadata": {
        "tags": [],
        "is_collapsed": false,
        "formattedRanges": [
          {
            "url": "https://deepnote.com/docs",
            "type": "link",
            "ranges": [],
            "toCodePoint": 57,
            "fromCodePoint": 44
          }
        ],
        "cell_id": "7ebf25816305487789c1521abf8c912b",
        "deepnote_cell_type": "text-cell-callout"
      },
      "source": "> Learn more about how to use Deepnote in our documentation.",
      "block_group": "258be7eb150143dba3f9cbe69580b34b"
    },
    {
      "cell_type": "markdown",
      "metadata": {
        "tags": [],
        "checked": false,
        "is_collapsed": false,
        "formattedRanges": [
          {
            "type": "marks",
            "marks": {
              "bold": true
            },
            "toCodePoint": 13,
            "fromCodePoint": 0
          }
        ],
        "cell_id": "f3aa769e5c6c4a388106b53a09308fda",
        "deepnote_cell_type": "text-cell-todo"
      },
      "source": "- [ ] Get creative. Have a look at some sample projects, then create a new one. Let your imagination run wild 🧑‍🎨",
      "block_group": "ceb75432608843e1b7aad7921177c3e2"
    },
    {
      "cell_type": "markdown",
      "metadata": {
        "tags": [],
        "checked": false,
        "is_collapsed": false,
        "formattedRanges": [
          {
            "type": "marks",
            "marks": {
              "bold": true
            },
            "toCodePoint": 22,
            "fromCodePoint": 0
          },
          {
            "type": "marks",
            "marks": {
              "italic": true
            },
            "toCodePoint": 45,
            "fromCodePoint": 33
          }
        ],
        "cell_id": "65527bd4a8754bfc8bb69db66040ed82",
        "deepnote_cell_type": "text-cell-todo"
      },
      "source": "- [ ] Connect your own data. Visit the Integrations menu to connect your database or data warehouse. Or just drop a CSV into a notebook. ",
      "block_group": "9e881281-e970-4326-a8e3-43385a38c0d5"
    },
    {
      "cell_type": "markdown",
      "metadata": {
        "tags": [],
        "checked": false,
        "is_collapsed": false,
        "formattedRanges": [
          {
            "type": "marks",
            "marks": {
              "bold": true
            },
            "toCodePoint": 14,
            "fromCodePoint": 0
          }
        ],
        "cell_id": "7d3069394dd145229ab3818dfbd6df7d",
        "deepnote_cell_type": "text-cell-todo"
      },
      "source": "- [ ] Work together. Invite your team members and share insights with each other. ",
      "block_group": "2c757c61-7492-4b45-a28d-6313a70a91ab"
    },
    {
      "cell_type": "markdown",
      "metadata": {
        "tags": [],
        "checked": false,
        "is_collapsed": false,
        "formattedRanges": [],
        "cell_id": "344b718322f7434aa95668241e7d0927",
        "deepnote_cell_type": "text-cell-p"
      },
      "source": "",
      "block_group": "acec1858-7a17-473a-8748-0ec649ab1f45"
    },
    {
      "cell_type": "markdown",
      "source": "<a style='text-decoration:none;line-height:16px;display:flex;color:#5B5B62;padding:10px;justify-content:end;' href='https://deepnote.com?utm_source=created-in-deepnote-cell&projectId=5bbfec53-798c-4f0c-81bd-e810c95d0334' target=\"_blank\">\n<img alt='Created in deepnote.com' style='display:inline;max-height:16px;margin:0px;margin-right:7.5px;' src='data:image/svg+xml;base64,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' > </img>\nCreated in <span style='font-weight:600;margin-left:4px;'>Deepnote</span></a>",
      "metadata": {
        "created_in_deepnote_cell": true,
        "deepnote_cell_type": "markdown"
      }
    }
  ],
  "nbformat": 4,
  "nbformat_minor": 0,
  "metadata": {
    "deepnote_persisted_session": {
      "createdAt": "2024-01-17T10:45:15.026Z"
    },
    "deepnote_full_width": false,
    "deepnote_notebook_id": "a03679ff86d94536ae8e9c8004bffdf6"
  }
}